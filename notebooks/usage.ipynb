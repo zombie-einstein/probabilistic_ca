{
 "cells": [
  {
   "cell_type": "markdown",
   "metadata": {},
   "source": [
    "**NOTE: Turn on 64bit values to avoid underflow during CA execution.**"
   ]
  },
  {
   "cell_type": "code",
   "execution_count": null,
   "metadata": {},
   "outputs": [],
   "source": [
    "import jax\n",
    "jax.config.update(\"jax_debug_nans\", True)\n",
    "jax.config.update(\"jax_enable_x64\", True)"
   ]
  },
  {
   "cell_type": "code",
   "execution_count": null,
   "metadata": {},
   "outputs": [],
   "source": [
    "import matplotlib.pyplot as plt\n",
    "import numpy as np\n",
    "import jax\n",
    "import jax.numpy as jnp\n",
    "from functools import partial"
   ]
  },
  {
   "cell_type": "code",
   "execution_count": null,
   "metadata": {},
   "outputs": [],
   "source": [
    "import probabilistic_ca as ca"
   ]
  },
  {
   "cell_type": "markdown",
   "metadata": {},
   "source": [
    "## CA Runner"
   ]
  },
  {
   "cell_type": "markdown",
   "metadata": {},
   "source": [
    "This utility function runs the CA for a binary CA rule (using the Wolfram numbering system). To allow the use of log probabilities a small pertubation is applied to probablities of the rule."
   ]
  },
  {
   "cell_type": "code",
   "execution_count": null,
   "metadata": {},
   "outputs": [],
   "source": [
    "def run(\n",
    "    rule: int, \n",
    "    width: int, \n",
    "    steps: int, \n",
    "    log_prob: bool = True, \n",
    "    pertubation: float = 1e-8,\n",
    "    seed: int = 101,\n",
    "):\n",
    "    # Create CA rule with small pertubation \n",
    "    # from 0-1 values\n",
    "    r = ca.rule_arr(\n",
    "        rule,\n",
    "        perturbations=None,\n",
    "        offset = pertubation,\n",
    "        log_prob=log_prob\n",
    "    )\n",
    "    \n",
    "    # Convert rule to log joint probabilities\n",
    "    j = ca.rule_to_joint(r, log_prob=log_prob)\n",
    "    \n",
    "    # Create random initial state\n",
    "    rng = np.random.default_rng(seed=seed)\n",
    "    rand_probs = rng.uniform(\n",
    "        pertubation, 1-pertubation, (2, width)\n",
    "    )\n",
    "    \n",
    "    s_test = ca.state_to_joint(rand_probs, log_prob=log_prob)\n",
    "    \n",
    "    # # Run model and return time-series\n",
    "    return ca.run_model(j, s_test, steps, log_prob=log_prob)"
   ]
  },
  {
   "cell_type": "markdown",
   "metadata": {},
   "source": [
    "## Visualisation"
   ]
  },
  {
   "cell_type": "markdown",
   "metadata": {},
   "source": [
    "Here we visualise the entriopy time-series of some of the interesting rules."
   ]
  },
  {
   "cell_type": "code",
   "execution_count": null,
   "metadata": {},
   "outputs": [],
   "source": [
    "f, ax = plt.subplots(figsize=(8, 8))\n",
    "ax.imshow(ca.entropy(run(14, 200, 200)), cmap='gray')\n",
    "ax.set_xticks([])\n",
    "ax.set_yticks([]);"
   ]
  },
  {
   "cell_type": "code",
   "execution_count": null,
   "metadata": {},
   "outputs": [],
   "source": [
    "f, ax = plt.subplots(figsize=(8, 8))\n",
    "ax.imshow(ca.entropy(run(35, 200, 200)), cmap='gray')\n",
    "ax.set_xticks([])\n",
    "ax.set_yticks([]);"
   ]
  },
  {
   "cell_type": "code",
   "execution_count": null,
   "metadata": {},
   "outputs": [],
   "source": [
    "f, ax = plt.subplots(figsize=(8, 8))\n",
    "ax.imshow(ca.entropy(run(56, 200, 200)), cmap='gray')\n",
    "ax.set_xticks([])\n",
    "ax.set_yticks([]);"
   ]
  },
  {
   "cell_type": "code",
   "execution_count": null,
   "metadata": {},
   "outputs": [],
   "source": []
  }
 ],
 "metadata": {
  "kernelspec": {
   "display_name": "Python 3 (ipykernel)",
   "language": "python",
   "name": "python3"
  },
  "language_info": {
   "codemirror_mode": {
    "name": "ipython",
    "version": 3
   },
   "file_extension": ".py",
   "mimetype": "text/x-python",
   "name": "python",
   "nbconvert_exporter": "python",
   "pygments_lexer": "ipython3",
   "version": "3.10.12"
  }
 },
 "nbformat": 4,
 "nbformat_minor": 4
}
